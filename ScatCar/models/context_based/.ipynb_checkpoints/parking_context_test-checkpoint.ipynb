{
 "cells": [
  {
   "cell_type": "code",
   "execution_count": 10,
   "metadata": {},
   "outputs": [],
   "source": [
    "import matplotlib.pyplot as plt"
   ]
  },
  {
   "cell_type": "code",
   "execution_count": 1,
   "metadata": {},
   "outputs": [
    {
     "name": "stderr",
     "output_type": "stream",
     "text": [
      "C:\\Users\\limaries30\\.conda\\envs\\tensor_flow\\lib\\site-packages\\tensorflow\\python\\framework\\dtypes.py:516: FutureWarning: Passing (type, 1) or '1type' as a synonym of type is deprecated; in a future version of numpy, it will be understood as (type, (1,)) / '(1,)type'.\n",
      "  _np_qint8 = np.dtype([(\"qint8\", np.int8, 1)])\n",
      "C:\\Users\\limaries30\\.conda\\envs\\tensor_flow\\lib\\site-packages\\tensorflow\\python\\framework\\dtypes.py:517: FutureWarning: Passing (type, 1) or '1type' as a synonym of type is deprecated; in a future version of numpy, it will be understood as (type, (1,)) / '(1,)type'.\n",
      "  _np_quint8 = np.dtype([(\"quint8\", np.uint8, 1)])\n",
      "C:\\Users\\limaries30\\.conda\\envs\\tensor_flow\\lib\\site-packages\\tensorflow\\python\\framework\\dtypes.py:518: FutureWarning: Passing (type, 1) or '1type' as a synonym of type is deprecated; in a future version of numpy, it will be understood as (type, (1,)) / '(1,)type'.\n",
      "  _np_qint16 = np.dtype([(\"qint16\", np.int16, 1)])\n",
      "C:\\Users\\limaries30\\.conda\\envs\\tensor_flow\\lib\\site-packages\\tensorflow\\python\\framework\\dtypes.py:519: FutureWarning: Passing (type, 1) or '1type' as a synonym of type is deprecated; in a future version of numpy, it will be understood as (type, (1,)) / '(1,)type'.\n",
      "  _np_quint16 = np.dtype([(\"quint16\", np.uint16, 1)])\n",
      "C:\\Users\\limaries30\\.conda\\envs\\tensor_flow\\lib\\site-packages\\tensorflow\\python\\framework\\dtypes.py:520: FutureWarning: Passing (type, 1) or '1type' as a synonym of type is deprecated; in a future version of numpy, it will be understood as (type, (1,)) / '(1,)type'.\n",
      "  _np_qint32 = np.dtype([(\"qint32\", np.int32, 1)])\n",
      "C:\\Users\\limaries30\\.conda\\envs\\tensor_flow\\lib\\site-packages\\tensorflow\\python\\framework\\dtypes.py:525: FutureWarning: Passing (type, 1) or '1type' as a synonym of type is deprecated; in a future version of numpy, it will be understood as (type, (1,)) / '(1,)type'.\n",
      "  np_resource = np.dtype([(\"resource\", np.ubyte, 1)])\n",
      "C:\\Users\\limaries30\\.conda\\envs\\tensor_flow\\lib\\site-packages\\tensorboard\\compat\\tensorflow_stub\\dtypes.py:541: FutureWarning: Passing (type, 1) or '1type' as a synonym of type is deprecated; in a future version of numpy, it will be understood as (type, (1,)) / '(1,)type'.\n",
      "  _np_qint8 = np.dtype([(\"qint8\", np.int8, 1)])\n",
      "C:\\Users\\limaries30\\.conda\\envs\\tensor_flow\\lib\\site-packages\\tensorboard\\compat\\tensorflow_stub\\dtypes.py:542: FutureWarning: Passing (type, 1) or '1type' as a synonym of type is deprecated; in a future version of numpy, it will be understood as (type, (1,)) / '(1,)type'.\n",
      "  _np_quint8 = np.dtype([(\"quint8\", np.uint8, 1)])\n",
      "C:\\Users\\limaries30\\.conda\\envs\\tensor_flow\\lib\\site-packages\\tensorboard\\compat\\tensorflow_stub\\dtypes.py:543: FutureWarning: Passing (type, 1) or '1type' as a synonym of type is deprecated; in a future version of numpy, it will be understood as (type, (1,)) / '(1,)type'.\n",
      "  _np_qint16 = np.dtype([(\"qint16\", np.int16, 1)])\n",
      "C:\\Users\\limaries30\\.conda\\envs\\tensor_flow\\lib\\site-packages\\tensorboard\\compat\\tensorflow_stub\\dtypes.py:544: FutureWarning: Passing (type, 1) or '1type' as a synonym of type is deprecated; in a future version of numpy, it will be understood as (type, (1,)) / '(1,)type'.\n",
      "  _np_quint16 = np.dtype([(\"quint16\", np.uint16, 1)])\n",
      "C:\\Users\\limaries30\\.conda\\envs\\tensor_flow\\lib\\site-packages\\tensorboard\\compat\\tensorflow_stub\\dtypes.py:545: FutureWarning: Passing (type, 1) or '1type' as a synonym of type is deprecated; in a future version of numpy, it will be understood as (type, (1,)) / '(1,)type'.\n",
      "  _np_qint32 = np.dtype([(\"qint32\", np.int32, 1)])\n",
      "C:\\Users\\limaries30\\.conda\\envs\\tensor_flow\\lib\\site-packages\\tensorboard\\compat\\tensorflow_stub\\dtypes.py:550: FutureWarning: Passing (type, 1) or '1type' as a synonym of type is deprecated; in a future version of numpy, it will be understood as (type, (1,)) / '(1,)type'.\n",
      "  np_resource = np.dtype([(\"resource\", np.ubyte, 1)])\n"
     ]
    }
   ],
   "source": [
    "import tensorflow as tf"
   ]
  },
  {
   "cell_type": "code",
   "execution_count": 2,
   "metadata": {},
   "outputs": [
    {
     "name": "stdout",
     "output_type": "stream",
     "text": [
      "WARNING:tensorflow:\n",
      "The TensorFlow contrib module will not be included in TensorFlow 2.0.\n",
      "For more information, please see:\n",
      "  * https://github.com/tensorflow/community/blob/master/rfcs/20180907-contrib-sunset.md\n",
      "  * https://github.com/tensorflow/addons\n",
      "  * https://github.com/tensorflow/io (for I/O related ops)\n",
      "If you depend on functionality not listed there, please file an issue.\n",
      "\n"
     ]
    }
   ],
   "source": [
    "from parking_slot_detector.config import *\n",
    "from parking_slot_detector.utils.data_utils import get_batch_data, parse_line\n",
    "from parking_slot_detector.utils.misc_utils import parse_anchors, read_class_names, AverageMeter\n",
    "import cv2\n",
    "import numpy as np\n",
    "\n",
    "from parking_slot_detector.utils.eval_utils import get_preds_gpu\n",
    "\n",
    "from parking_slot_detector.utils.eval_utils import (\n",
    "    evaluate_on_gpu,\n",
    "    get_preds_gpu,\n",
    "    parse_gt_rec,\n",
    "    parse_gt_quadrangle,\n",
    "    calc_park_score,\n",
    "    park_eval,\n",
    "    eval_result_file,\n",
    ")\n",
    "from parking_slot_detector.utils.nms_utils import gpu_nms\n",
    "from parking_slot_detector.utils.plot_utils import plot_one_box, plot_one_quad\n",
    "from parking_slot_detector.model import yolov3\n",
    "\n"
   ]
  },
  {
   "cell_type": "code",
   "execution_count": 3,
   "metadata": {},
   "outputs": [
    {
     "name": "stdout",
     "output_type": "stream",
     "text": [
      "anchor_path parking_slot_detector/data/anchors.txt\n",
      "WARNING:tensorflow:From <ipython-input-3-716f485e8fd8>:7: to_float (from tensorflow.python.ops.math_ops) is deprecated and will be removed in a future version.\n",
      "Instructions for updating:\n",
      "Use `tf.cast` instead.\n",
      "WARNING:tensorflow:From C:\\Users\\limaries30\\.conda\\envs\\tensor_flow\\lib\\site-packages\\tensorflow\\python\\ops\\array_ops.py:1354: add_dispatch_support.<locals>.wrapper (from tensorflow.python.ops.array_ops) is deprecated and will be removed in a future version.\n",
      "Instructions for updating:\n",
      "Use tf.where in 2.0, which has the same broadcast rule as np.where\n"
     ]
    }
   ],
   "source": [
    "anchors = parse_anchors(\"parking_slot_detector/data/anchors.txt\")\n",
    "image_dir = \"parking_slot_detector/data/bird_1.jpg\"\n",
    "weight_path=\"weight_psd/fine_tuned_type_0\"\n",
    "class_num = 2\n",
    "\n",
    "image = cv2.imread(image_dir, cv2.COLOR_RGB2GRAY)\n",
    "image = tf.to_float(image[np.newaxis, :])\n",
    "\n",
    "# setting placeholders\n",
    "is_training = tf.placeholder(dtype=tf.bool, name=\"phase_train\")\n",
    "handle_flag = tf.placeholder(tf.string, [], name=\"iterator_handle_flag\")\n",
    "# pred_boxes_flag = tf.placeholder(tf.float32, [1, None, None])\n",
    "pred_scores_flag = tf.placeholder(tf.float32, [1, None, None])\n",
    "pred_quads_flag = tf.placeholder(tf.float32, [1, None, None])\n",
    "\n",
    "gpu_nms_op = gpu_nms(\n",
    "    pred_quads_flag,\n",
    "    pred_scores_flag,\n",
    "    class_num,\n",
    "    NMS_TOPK,\n",
    "    THRESHOLD_OBJ,\n",
    "    THRESHOLD_NMS,\n",
    "    apply_rotate=True,\n",
    ")"
   ]
  },
  {
   "cell_type": "code",
   "execution_count": 4,
   "metadata": {},
   "outputs": [
    {
     "name": "stdout",
     "output_type": "stream",
     "text": [
      "WARNING:tensorflow:From C:\\tensor_code\\AutoParking\\ScatCar\\models\\context_based\\parking_slot_detector\\model.py:55: The name tf.variable_scope is deprecated. Please use tf.compat.v1.variable_scope instead.\n",
      "\n",
      "WARNING:tensorflow:From C:\\tensor_code\\AutoParking\\ScatCar\\models\\context_based\\parking_slot_detector\\utils\\layer_utils.py:87: The name tf.image.resize_nearest_neighbor is deprecated. Please use tf.compat.v1.image.resize_nearest_neighbor instead.\n",
      "\n",
      "weight_path weight_psd/fine_tuned_type_0\n",
      "WARNING:tensorflow:From C:\\Users\\limaries30\\.conda\\envs\\tensor_flow\\lib\\site-packages\\tensorflow\\python\\training\\saver.py:1276: checkpoint_exists (from tensorflow.python.training.checkpoint_management) is deprecated and will be removed in a future version.\n",
      "Instructions for updating:\n",
      "Use standard file APIs to check for files with this prefix.\n",
      "INFO:tensorflow:Restoring parameters from weight_psd/fine_tuned_type_0\\trained_type_0\n",
      "lable: 1 score: 1.00000000 -26.00 -19.17 -26.00 132.38 250.00 54.54 250.00 289.01 \n",
      "lable: 1 score: 0.99999964 38.00 749.99 39.81 322.04 314.00 316.62 313.86 789.42 \n",
      "lable: 1 score: 0.99990910 -204.97 557.18 -206.00 -239.00 -205.66 422.20 -205.96 -141.39 \n",
      "lable: 1 score: 0.99937838 88.05 186.65 -53.29 107.33 129.47 211.59 133.32 195.72 \n",
      "lable: 0 score: 0.99931538 -188.96 91.90 9.76 285.44 155.56 314.61 207.81 260.30 \n",
      "lable: 0 score: 0.99921745 46.44 127.02 -125.62 72.71 135.93 147.95 141.79 144.74 \n",
      "lable: 1 score: 0.99840587 51.48 182.82 -34.92 173.70 128.99 251.62 133.18 227.57 \n"
     ]
    }
   ],
   "source": [
    "\n",
    "yolo_model = yolov3(class_num, anchors)\n",
    "with tf.variable_scope(\"yolov3\"):\n",
    "    pred_feature_maps = yolo_model.forward(image, is_training=is_training)\n",
    "\n",
    "\n",
    "image_angle = tf.dtypes.cast([0], tf.float32)\n",
    "\n",
    "y_pred = yolo_model.predict(pred_feature_maps, image_angle)\n",
    "\n",
    "saver_to_restore = tf.train.Saver()\n",
    "print(\"weight_path\", weight_path)\n",
    "weight_file = tf.train.latest_checkpoint(weight_path)  # ../weight_psd/fine_tuned_type_0\n",
    "\n",
    "vars_in_checkpoint = tf.train.list_variables(weight_path)\n",
    "with tf.Session() as sess:\n",
    "    sess.run([tf.global_variables_initializer()])\n",
    "    saver_to_restore.restore(sess, weight_file)\n",
    "\n",
    "    # start_time = time.time()\n",
    "    __y_pred = sess.run([y_pred], feed_dict={is_training: False})\n",
    "\n",
    "    pred_content = get_preds_gpu(\n",
    "        sess, gpu_nms_op, pred_quads_flag, pred_scores_flag, [0], __y_pred\n",
    "    )\n",
    "\n",
    "    for img_id, x_min, y_min, x_max, y_max, score, label, quad in pred_content:\n",
    "        print(\n",
    "            \"lable: %d score: %.8f %.2f %.2f %.2f %.2f %.2f %.2f %.2f %.2f \"\n",
    "            % (\n",
    "                label,\n",
    "                score,\n",
    "                quad[0],\n",
    "                quad[1],\n",
    "                quad[2],\n",
    "                quad[3],\n",
    "                quad[4],\n",
    "                quad[5],\n",
    "                quad[6],\n",
    "                quad[7],\n",
    "            )\n",
    "        )"
   ]
  },
  {
   "cell_type": "code",
   "execution_count": 7,
   "metadata": {},
   "outputs": [],
   "source": [
    "sess.close()"
   ]
  },
  {
   "cell_type": "code",
   "execution_count": 8,
   "metadata": {},
   "outputs": [
    {
     "data": {
      "text/plain": [
       "[[0,\n",
       "  -26.0,\n",
       "  -19.169659,\n",
       "  250.0,\n",
       "  289.01123,\n",
       "  1.0,\n",
       "  1,\n",
       "  array([-26.      , -19.169659, -25.999634, 132.37532 , 250.      ,\n",
       "          54.53595 , 249.99985 , 289.01123 ], dtype=float32)],\n",
       " [0,\n",
       "  38.0,\n",
       "  316.61636,\n",
       "  314.0,\n",
       "  789.4204,\n",
       "  0.99999964,\n",
       "  1,\n",
       "  array([ 38.      , 749.9899  ,  39.807266, 322.03894 , 314.      ,\n",
       "         316.61636 , 313.86142 , 789.4204  ], dtype=float32)],\n",
       " [0,\n",
       "  -205.99646,\n",
       "  -239.0,\n",
       "  -204.97285,\n",
       "  557.1752,\n",
       "  0.9999091,\n",
       "  1,\n",
       "  array([-204.97285,  557.1752 , -205.99646, -239.     , -205.65965,\n",
       "          422.19778, -205.96338, -141.39471], dtype=float32)],\n",
       " [0,\n",
       "  -53.28767,\n",
       "  107.3271,\n",
       "  133.32442,\n",
       "  211.59142,\n",
       "  0.9993784,\n",
       "  1,\n",
       "  array([ 88.047714, 186.64618 , -53.28767 , 107.3271  , 129.4701  ,\n",
       "         211.59142 , 133.32442 , 195.72195 ], dtype=float32)],\n",
       " [0,\n",
       "  -188.96165,\n",
       "  91.903595,\n",
       "  207.81352,\n",
       "  314.60522,\n",
       "  0.9993154,\n",
       "  0,\n",
       "  array([-188.96165 ,   91.903595,    9.758826,  285.44357 ,  155.55687 ,\n",
       "          314.60522 ,  207.81352 ,  260.29712 ], dtype=float32)],\n",
       " [0,\n",
       "  -125.62222,\n",
       "  72.70805,\n",
       "  141.79463,\n",
       "  147.95195,\n",
       "  0.99921745,\n",
       "  0,\n",
       "  array([  46.443775,  127.01849 , -125.62222 ,   72.70805 ,  135.93011 ,\n",
       "          147.95195 ,  141.79463 ,  144.73953 ], dtype=float32)],\n",
       " [0,\n",
       "  -34.917213,\n",
       "  173.70456,\n",
       "  133.17587,\n",
       "  251.6225,\n",
       "  0.9984059,\n",
       "  1,\n",
       "  array([ 51.478577, 182.81555 , -34.917213, 173.70456 , 128.98672 ,\n",
       "         251.6225  , 133.17587 , 227.56735 ], dtype=float32)]]"
      ]
     },
     "execution_count": 8,
     "metadata": {},
     "output_type": "execute_result"
    }
   ],
   "source": [
    "pred_content"
   ]
  },
  {
   "cell_type": "code",
   "execution_count": 11,
   "metadata": {},
   "outputs": [
    {
     "ename": "TypeError",
     "evalue": "Image data cannot be converted to float",
     "output_type": "error",
     "traceback": [
      "\u001b[1;31m---------------------------------------------------------------------------\u001b[0m",
      "\u001b[1;31mTypeError\u001b[0m                                 Traceback (most recent call last)",
      "\u001b[1;32m<ipython-input-11-12ba6d47bd7e>\u001b[0m in \u001b[0;36m<module>\u001b[1;34m\u001b[0m\n\u001b[1;32m----> 1\u001b[1;33m \u001b[0mplt\u001b[0m\u001b[1;33m.\u001b[0m\u001b[0mimshow\u001b[0m\u001b[1;33m(\u001b[0m\u001b[0mimage\u001b[0m\u001b[1;33m)\u001b[0m\u001b[1;33m\u001b[0m\u001b[1;33m\u001b[0m\u001b[0m\n\u001b[0m",
      "\u001b[1;32m~\\AppData\\Roaming\\Python\\Python36\\site-packages\\matplotlib\\pyplot.py\u001b[0m in \u001b[0;36mimshow\u001b[1;34m(X, cmap, norm, aspect, interpolation, alpha, vmin, vmax, origin, extent, shape, filternorm, filterrad, imlim, resample, url, data, **kwargs)\u001b[0m\n\u001b[0;32m   2697\u001b[0m         \u001b[0mfilternorm\u001b[0m\u001b[1;33m=\u001b[0m\u001b[0mfilternorm\u001b[0m\u001b[1;33m,\u001b[0m \u001b[0mfilterrad\u001b[0m\u001b[1;33m=\u001b[0m\u001b[0mfilterrad\u001b[0m\u001b[1;33m,\u001b[0m \u001b[0mimlim\u001b[0m\u001b[1;33m=\u001b[0m\u001b[0mimlim\u001b[0m\u001b[1;33m,\u001b[0m\u001b[1;33m\u001b[0m\u001b[1;33m\u001b[0m\u001b[0m\n\u001b[0;32m   2698\u001b[0m         resample=resample, url=url, **({\"data\": data} if data is not\n\u001b[1;32m-> 2699\u001b[1;33m         None else {}), **kwargs)\n\u001b[0m\u001b[0;32m   2700\u001b[0m     \u001b[0msci\u001b[0m\u001b[1;33m(\u001b[0m\u001b[0m__ret\u001b[0m\u001b[1;33m)\u001b[0m\u001b[1;33m\u001b[0m\u001b[1;33m\u001b[0m\u001b[0m\n\u001b[0;32m   2701\u001b[0m     \u001b[1;32mreturn\u001b[0m \u001b[0m__ret\u001b[0m\u001b[1;33m\u001b[0m\u001b[1;33m\u001b[0m\u001b[0m\n",
      "\u001b[1;32m~\\AppData\\Roaming\\Python\\Python36\\site-packages\\matplotlib\\__init__.py\u001b[0m in \u001b[0;36minner\u001b[1;34m(ax, data, *args, **kwargs)\u001b[0m\n\u001b[0;32m   1808\u001b[0m                         \u001b[1;34m\"the Matplotlib list!)\"\u001b[0m \u001b[1;33m%\u001b[0m \u001b[1;33m(\u001b[0m\u001b[0mlabel_namer\u001b[0m\u001b[1;33m,\u001b[0m \u001b[0mfunc\u001b[0m\u001b[1;33m.\u001b[0m\u001b[0m__name__\u001b[0m\u001b[1;33m)\u001b[0m\u001b[1;33m,\u001b[0m\u001b[1;33m\u001b[0m\u001b[1;33m\u001b[0m\u001b[0m\n\u001b[0;32m   1809\u001b[0m                         RuntimeWarning, stacklevel=2)\n\u001b[1;32m-> 1810\u001b[1;33m             \u001b[1;32mreturn\u001b[0m \u001b[0mfunc\u001b[0m\u001b[1;33m(\u001b[0m\u001b[0max\u001b[0m\u001b[1;33m,\u001b[0m \u001b[1;33m*\u001b[0m\u001b[0margs\u001b[0m\u001b[1;33m,\u001b[0m \u001b[1;33m**\u001b[0m\u001b[0mkwargs\u001b[0m\u001b[1;33m)\u001b[0m\u001b[1;33m\u001b[0m\u001b[1;33m\u001b[0m\u001b[0m\n\u001b[0m\u001b[0;32m   1811\u001b[0m \u001b[1;33m\u001b[0m\u001b[0m\n\u001b[0;32m   1812\u001b[0m         inner.__doc__ = _add_data_doc(inner.__doc__,\n",
      "\u001b[1;32m~\\AppData\\Roaming\\Python\\Python36\\site-packages\\matplotlib\\axes\\_axes.py\u001b[0m in \u001b[0;36mimshow\u001b[1;34m(self, X, cmap, norm, aspect, interpolation, alpha, vmin, vmax, origin, extent, shape, filternorm, filterrad, imlim, resample, url, **kwargs)\u001b[0m\n\u001b[0;32m   5492\u001b[0m                               resample=resample, **kwargs)\n\u001b[0;32m   5493\u001b[0m \u001b[1;33m\u001b[0m\u001b[0m\n\u001b[1;32m-> 5494\u001b[1;33m         \u001b[0mim\u001b[0m\u001b[1;33m.\u001b[0m\u001b[0mset_data\u001b[0m\u001b[1;33m(\u001b[0m\u001b[0mX\u001b[0m\u001b[1;33m)\u001b[0m\u001b[1;33m\u001b[0m\u001b[1;33m\u001b[0m\u001b[0m\n\u001b[0m\u001b[0;32m   5495\u001b[0m         \u001b[0mim\u001b[0m\u001b[1;33m.\u001b[0m\u001b[0mset_alpha\u001b[0m\u001b[1;33m(\u001b[0m\u001b[0malpha\u001b[0m\u001b[1;33m)\u001b[0m\u001b[1;33m\u001b[0m\u001b[1;33m\u001b[0m\u001b[0m\n\u001b[0;32m   5496\u001b[0m         \u001b[1;32mif\u001b[0m \u001b[0mim\u001b[0m\u001b[1;33m.\u001b[0m\u001b[0mget_clip_path\u001b[0m\u001b[1;33m(\u001b[0m\u001b[1;33m)\u001b[0m \u001b[1;32mis\u001b[0m \u001b[1;32mNone\u001b[0m\u001b[1;33m:\u001b[0m\u001b[1;33m\u001b[0m\u001b[1;33m\u001b[0m\u001b[0m\n",
      "\u001b[1;32m~\\AppData\\Roaming\\Python\\Python36\\site-packages\\matplotlib\\image.py\u001b[0m in \u001b[0;36mset_data\u001b[1;34m(self, A)\u001b[0m\n\u001b[0;32m    632\u001b[0m         if (self._A.dtype != np.uint8 and\n\u001b[0;32m    633\u001b[0m                 not np.can_cast(self._A.dtype, float, \"same_kind\")):\n\u001b[1;32m--> 634\u001b[1;33m             \u001b[1;32mraise\u001b[0m \u001b[0mTypeError\u001b[0m\u001b[1;33m(\u001b[0m\u001b[1;34m\"Image data cannot be converted to float\"\u001b[0m\u001b[1;33m)\u001b[0m\u001b[1;33m\u001b[0m\u001b[1;33m\u001b[0m\u001b[0m\n\u001b[0m\u001b[0;32m    635\u001b[0m \u001b[1;33m\u001b[0m\u001b[0m\n\u001b[0;32m    636\u001b[0m         if not (self._A.ndim == 2\n",
      "\u001b[1;31mTypeError\u001b[0m: Image data cannot be converted to float"
     ]
    },
    {
     "data": {
      "image/png": "[encoded data removed]",
      "text/plain": [
       "<Figure size 432x288 with 1 Axes>"
      ]
     },
     "metadata": {
      "needs_background": "light"
     },
     "output_type": "display_data"
    }
   ],
   "source": [
    "plt.imshow(image)"
   ]
  },
  {
   "cell_type": "code",
   "execution_count": null,
   "metadata": {},
   "outputs": [],
   "source": []
  }
 ],
 "metadata": {
  "kernelspec": {
   "display_name": "tensor_flow",
   "language": "python",
   "name": "tensor_flow"
  },
  "language_info": {
   "codemirror_mode": {
    "name": "ipython",
    "version": 3
   },
   "file_extension": ".py",
   "mimetype": "text/x-python",
   "name": "python",
   "nbconvert_exporter": "python",
   "pygments_lexer": "ipython3",
   "version": "3.6.10"
  }
 },
 "nbformat": 4,
 "nbformat_minor": 4
}
